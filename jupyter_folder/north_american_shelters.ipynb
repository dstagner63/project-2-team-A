{
 "cells": [
  {
   "cell_type": "code",
   "execution_count": 6,
   "metadata": {},
   "outputs": [],
   "source": [
    "# Import dependencies\n",
    "import pandas as pd\n",
    "from sqlalchemy import create_engine"
   ]
  },
  {
   "cell_type": "code",
   "execution_count": 7,
   "metadata": {
    "scrolled": false
   },
   "outputs": [
    {
     "output_type": "execute_result",
     "data": {
      "text/plain": [
       "                address1      address2      city country  \\\n",
       "0         195 State Road           NaN   Kittery      US   \n",
       "1          94 Grove Road           NaN       Rye      US   \n",
       "2                    NaN           NaN       Rye      US   \n",
       "3  104 Portsmouth Avenue  P.O. Box 196  Stratham      US   \n",
       "4                    NaN           NaN      York      US   \n",
       "\n",
       "                                  email     id  latitude  longitude  \\\n",
       "0                AdoptionsKAH@gmail.com  ME118   43.0899   -70.7415   \n",
       "1                    lgrovefarm@aol.com   NH81   42.9885   -70.8282   \n",
       "2            Rescue@NNEwestierescue.org  NH140   42.9885   -70.8282   \n",
       "3                       info@nhspca.org   NH31   43.0028   -70.9212   \n",
       "4  thegratefuldoganimalrescue@gmail.com  ME158   43.1502   -70.6281   \n",
       "\n",
       "                                                name           phone state  \\\n",
       "0  Kittery Animal Hospital and Creature Comforts LLC  (207) 439-4158    ME   \n",
       "1                         Lilac Groves Pampered Pups   603-964-1475     NH   \n",
       "2             Northern New England Westie Rescue Inc             NaN    NH   \n",
       "3                                             NHSPCA    603-772-2921    NH   \n",
       "4                     The Grateful Dog Animal Rescue             NaN    ME   \n",
       "\n",
       "    zip  \n",
       "0  3904  \n",
       "1  3870  \n",
       "2  3870  \n",
       "3  3885  \n",
       "4  3909  "
      ],
      "text/html": "<div>\n<style scoped>\n    .dataframe tbody tr th:only-of-type {\n        vertical-align: middle;\n    }\n\n    .dataframe tbody tr th {\n        vertical-align: top;\n    }\n\n    .dataframe thead th {\n        text-align: right;\n    }\n</style>\n<table border=\"1\" class=\"dataframe\">\n  <thead>\n    <tr style=\"text-align: right;\">\n      <th></th>\n      <th>address1</th>\n      <th>address2</th>\n      <th>city</th>\n      <th>country</th>\n      <th>email</th>\n      <th>id</th>\n      <th>latitude</th>\n      <th>longitude</th>\n      <th>name</th>\n      <th>phone</th>\n      <th>state</th>\n      <th>zip</th>\n    </tr>\n  </thead>\n  <tbody>\n    <tr>\n      <th>0</th>\n      <td>195 State Road</td>\n      <td>NaN</td>\n      <td>Kittery</td>\n      <td>US</td>\n      <td>AdoptionsKAH@gmail.com</td>\n      <td>ME118</td>\n      <td>43.0899</td>\n      <td>-70.7415</td>\n      <td>Kittery Animal Hospital and Creature Comforts LLC</td>\n      <td>(207) 439-4158</td>\n      <td>ME</td>\n      <td>3904</td>\n    </tr>\n    <tr>\n      <th>1</th>\n      <td>94 Grove Road</td>\n      <td>NaN</td>\n      <td>Rye</td>\n      <td>US</td>\n      <td>lgrovefarm@aol.com</td>\n      <td>NH81</td>\n      <td>42.9885</td>\n      <td>-70.8282</td>\n      <td>Lilac Groves Pampered Pups</td>\n      <td>603-964-1475</td>\n      <td>NH</td>\n      <td>3870</td>\n    </tr>\n    <tr>\n      <th>2</th>\n      <td>NaN</td>\n      <td>NaN</td>\n      <td>Rye</td>\n      <td>US</td>\n      <td>Rescue@NNEwestierescue.org</td>\n      <td>NH140</td>\n      <td>42.9885</td>\n      <td>-70.8282</td>\n      <td>Northern New England Westie Rescue Inc</td>\n      <td>NaN</td>\n      <td>NH</td>\n      <td>3870</td>\n    </tr>\n    <tr>\n      <th>3</th>\n      <td>104 Portsmouth Avenue</td>\n      <td>P.O. Box 196</td>\n      <td>Stratham</td>\n      <td>US</td>\n      <td>info@nhspca.org</td>\n      <td>NH31</td>\n      <td>43.0028</td>\n      <td>-70.9212</td>\n      <td>NHSPCA</td>\n      <td>603-772-2921</td>\n      <td>NH</td>\n      <td>3885</td>\n    </tr>\n    <tr>\n      <th>4</th>\n      <td>NaN</td>\n      <td>NaN</td>\n      <td>York</td>\n      <td>US</td>\n      <td>thegratefuldoganimalrescue@gmail.com</td>\n      <td>ME158</td>\n      <td>43.1502</td>\n      <td>-70.6281</td>\n      <td>The Grateful Dog Animal Rescue</td>\n      <td>NaN</td>\n      <td>ME</td>\n      <td>3909</td>\n    </tr>\n  </tbody>\n</table>\n</div>"
     },
     "metadata": {},
     "execution_count": 7
    }
   ],
   "source": [
    "# The path to the World Happiness CSV file\n",
    "shelters_file = \"../Data/petfinder_shelters.csv\"\n",
    "\n",
    "# Read the World Happiness data into pandas\n",
    "original_shelters_df = pd.read_csv(shelters_file, delimiter = ',')\n",
    "original_shelters_df.head()"
   ]
  },
  {
   "cell_type": "code",
   "execution_count": 8,
   "metadata": {
    "scrolled": true
   },
   "outputs": [
    {
     "output_type": "execute_result",
     "data": {
      "text/plain": [
       "address1      object\n",
       "address2      object\n",
       "city          object\n",
       "country       object\n",
       "email         object\n",
       "id            object\n",
       "latitude     float64\n",
       "longitude    float64\n",
       "name          object\n",
       "phone         object\n",
       "state         object\n",
       "zip           object\n",
       "dtype: object"
      ]
     },
     "metadata": {},
     "execution_count": 8
    }
   ],
   "source": [
    "# Inspect the data types\n",
    "original_shelters_df.dtypes"
   ]
  },
  {
   "cell_type": "code",
   "execution_count": 9,
   "metadata": {
    "scrolled": true
   },
   "outputs": [
    {
     "output_type": "execute_result",
     "data": {
      "text/plain": [
       "            city country     id  latitude  longitude  \\\n",
       "0        Kittery      US  ME118   43.0899   -70.7415   \n",
       "1            Rye      US   NH81   42.9885   -70.8282   \n",
       "2            Rye      US  NH140   42.9885   -70.8282   \n",
       "3       Stratham      US   NH31   43.0028   -70.9212   \n",
       "4           York      US  ME158   43.1502   -70.6281   \n",
       "...          ...     ...    ...       ...        ...   \n",
       "10131     Morris      US  IL717   41.3555   -88.4125   \n",
       "10132     Normal      US  IL806   40.5101   -88.9866   \n",
       "10133  Westville      US   IN23   41.5536   -86.8980   \n",
       "10134    Lansing      US  MI649   42.6813   -84.5757   \n",
       "10135  Fair Play      US  MO656   37.6333   -93.5749   \n",
       "\n",
       "                                                    name state    zip  \n",
       "0      Kittery Animal Hospital and Creature Comforts LLC    ME   3904  \n",
       "1                             Lilac Groves Pampered Pups    NH   3870  \n",
       "2                 Northern New England Westie Rescue Inc    NH   3870  \n",
       "3                                                 NHSPCA    NH   3885  \n",
       "4                         The Grateful Dog Animal Rescue    ME   3909  \n",
       "...                                                  ...   ...    ...  \n",
       "10131          All Those Left Behind Animal Rescue, Inc.    IL  60450  \n",
       "10132                                   Arrow Dog Rescue    IL  61761  \n",
       "10133                            Independent Cat Society    IN  46391  \n",
       "10134                                   Purrfect Kitties    MI  48911  \n",
       "10135                                       Hotel McColm    MO  65649  \n",
       "\n",
       "[10136 rows x 8 columns]"
      ],
      "text/html": "<div>\n<style scoped>\n    .dataframe tbody tr th:only-of-type {\n        vertical-align: middle;\n    }\n\n    .dataframe tbody tr th {\n        vertical-align: top;\n    }\n\n    .dataframe thead th {\n        text-align: right;\n    }\n</style>\n<table border=\"1\" class=\"dataframe\">\n  <thead>\n    <tr style=\"text-align: right;\">\n      <th></th>\n      <th>city</th>\n      <th>country</th>\n      <th>id</th>\n      <th>latitude</th>\n      <th>longitude</th>\n      <th>name</th>\n      <th>state</th>\n      <th>zip</th>\n    </tr>\n  </thead>\n  <tbody>\n    <tr>\n      <th>0</th>\n      <td>Kittery</td>\n      <td>US</td>\n      <td>ME118</td>\n      <td>43.0899</td>\n      <td>-70.7415</td>\n      <td>Kittery Animal Hospital and Creature Comforts LLC</td>\n      <td>ME</td>\n      <td>3904</td>\n    </tr>\n    <tr>\n      <th>1</th>\n      <td>Rye</td>\n      <td>US</td>\n      <td>NH81</td>\n      <td>42.9885</td>\n      <td>-70.8282</td>\n      <td>Lilac Groves Pampered Pups</td>\n      <td>NH</td>\n      <td>3870</td>\n    </tr>\n    <tr>\n      <th>2</th>\n      <td>Rye</td>\n      <td>US</td>\n      <td>NH140</td>\n      <td>42.9885</td>\n      <td>-70.8282</td>\n      <td>Northern New England Westie Rescue Inc</td>\n      <td>NH</td>\n      <td>3870</td>\n    </tr>\n    <tr>\n      <th>3</th>\n      <td>Stratham</td>\n      <td>US</td>\n      <td>NH31</td>\n      <td>43.0028</td>\n      <td>-70.9212</td>\n      <td>NHSPCA</td>\n      <td>NH</td>\n      <td>3885</td>\n    </tr>\n    <tr>\n      <th>4</th>\n      <td>York</td>\n      <td>US</td>\n      <td>ME158</td>\n      <td>43.1502</td>\n      <td>-70.6281</td>\n      <td>The Grateful Dog Animal Rescue</td>\n      <td>ME</td>\n      <td>3909</td>\n    </tr>\n    <tr>\n      <th>...</th>\n      <td>...</td>\n      <td>...</td>\n      <td>...</td>\n      <td>...</td>\n      <td>...</td>\n      <td>...</td>\n      <td>...</td>\n      <td>...</td>\n    </tr>\n    <tr>\n      <th>10131</th>\n      <td>Morris</td>\n      <td>US</td>\n      <td>IL717</td>\n      <td>41.3555</td>\n      <td>-88.4125</td>\n      <td>All Those Left Behind Animal Rescue, Inc.</td>\n      <td>IL</td>\n      <td>60450</td>\n    </tr>\n    <tr>\n      <th>10132</th>\n      <td>Normal</td>\n      <td>US</td>\n      <td>IL806</td>\n      <td>40.5101</td>\n      <td>-88.9866</td>\n      <td>Arrow Dog Rescue</td>\n      <td>IL</td>\n      <td>61761</td>\n    </tr>\n    <tr>\n      <th>10133</th>\n      <td>Westville</td>\n      <td>US</td>\n      <td>IN23</td>\n      <td>41.5536</td>\n      <td>-86.8980</td>\n      <td>Independent Cat Society</td>\n      <td>IN</td>\n      <td>46391</td>\n    </tr>\n    <tr>\n      <th>10134</th>\n      <td>Lansing</td>\n      <td>US</td>\n      <td>MI649</td>\n      <td>42.6813</td>\n      <td>-84.5757</td>\n      <td>Purrfect Kitties</td>\n      <td>MI</td>\n      <td>48911</td>\n    </tr>\n    <tr>\n      <th>10135</th>\n      <td>Fair Play</td>\n      <td>US</td>\n      <td>MO656</td>\n      <td>37.6333</td>\n      <td>-93.5749</td>\n      <td>Hotel McColm</td>\n      <td>MO</td>\n      <td>65649</td>\n    </tr>\n  </tbody>\n</table>\n<p>10136 rows × 8 columns</p>\n</div>"
     },
     "metadata": {},
     "execution_count": 9
    }
   ],
   "source": [
    "# Create a pandas DataFrame\n",
    "clean_shelters_df = original_shelters_df.drop(['address1', 'address2', 'email','phone'], axis=1)\n",
    "clean_shelters_df"
   ]
  },
  {
   "cell_type": "code",
   "execution_count": 10,
   "metadata": {},
   "outputs": [
    {
     "output_type": "execute_result",
     "data": {
      "text/plain": [
       "            city country     id  latitude  longitude  \\\n",
       "0        Kittery      US  ME118   43.0899   -70.7415   \n",
       "1            Rye      US   NH81   42.9885   -70.8282   \n",
       "2            Rye      US  NH140   42.9885   -70.8282   \n",
       "3       Stratham      US   NH31   43.0028   -70.9212   \n",
       "4           York      US  ME158   43.1502   -70.6281   \n",
       "...          ...     ...    ...       ...        ...   \n",
       "10131     Morris      US  IL717   41.3555   -88.4125   \n",
       "10132     Normal      US  IL806   40.5101   -88.9866   \n",
       "10133  Westville      US   IN23   41.5536   -86.8980   \n",
       "10134    Lansing      US  MI649   42.6813   -84.5757   \n",
       "10135  Fair Play      US  MO656   37.6333   -93.5749   \n",
       "\n",
       "                                                    name state    zip  \n",
       "0      Kittery Animal Hospital and Creature Comforts LLC    ME   3904  \n",
       "1                             Lilac Groves Pampered Pups    NH   3870  \n",
       "2                 Northern New England Westie Rescue Inc    NH   3870  \n",
       "3                                                 NHSPCA    NH   3885  \n",
       "4                         The Grateful Dog Animal Rescue    ME   3909  \n",
       "...                                                  ...   ...    ...  \n",
       "10131          All Those Left Behind Animal Rescue, Inc.    IL  60450  \n",
       "10132                                   Arrow Dog Rescue    IL  61761  \n",
       "10133                            Independent Cat Society    IN  46391  \n",
       "10134                                   Purrfect Kitties    MI  48911  \n",
       "10135                                       Hotel McColm    MO  65649  \n",
       "\n",
       "[9812 rows x 8 columns]"
      ],
      "text/html": "<div>\n<style scoped>\n    .dataframe tbody tr th:only-of-type {\n        vertical-align: middle;\n    }\n\n    .dataframe tbody tr th {\n        vertical-align: top;\n    }\n\n    .dataframe thead th {\n        text-align: right;\n    }\n</style>\n<table border=\"1\" class=\"dataframe\">\n  <thead>\n    <tr style=\"text-align: right;\">\n      <th></th>\n      <th>city</th>\n      <th>country</th>\n      <th>id</th>\n      <th>latitude</th>\n      <th>longitude</th>\n      <th>name</th>\n      <th>state</th>\n      <th>zip</th>\n    </tr>\n  </thead>\n  <tbody>\n    <tr>\n      <th>0</th>\n      <td>Kittery</td>\n      <td>US</td>\n      <td>ME118</td>\n      <td>43.0899</td>\n      <td>-70.7415</td>\n      <td>Kittery Animal Hospital and Creature Comforts LLC</td>\n      <td>ME</td>\n      <td>3904</td>\n    </tr>\n    <tr>\n      <th>1</th>\n      <td>Rye</td>\n      <td>US</td>\n      <td>NH81</td>\n      <td>42.9885</td>\n      <td>-70.8282</td>\n      <td>Lilac Groves Pampered Pups</td>\n      <td>NH</td>\n      <td>3870</td>\n    </tr>\n    <tr>\n      <th>2</th>\n      <td>Rye</td>\n      <td>US</td>\n      <td>NH140</td>\n      <td>42.9885</td>\n      <td>-70.8282</td>\n      <td>Northern New England Westie Rescue Inc</td>\n      <td>NH</td>\n      <td>3870</td>\n    </tr>\n    <tr>\n      <th>3</th>\n      <td>Stratham</td>\n      <td>US</td>\n      <td>NH31</td>\n      <td>43.0028</td>\n      <td>-70.9212</td>\n      <td>NHSPCA</td>\n      <td>NH</td>\n      <td>3885</td>\n    </tr>\n    <tr>\n      <th>4</th>\n      <td>York</td>\n      <td>US</td>\n      <td>ME158</td>\n      <td>43.1502</td>\n      <td>-70.6281</td>\n      <td>The Grateful Dog Animal Rescue</td>\n      <td>ME</td>\n      <td>3909</td>\n    </tr>\n    <tr>\n      <th>...</th>\n      <td>...</td>\n      <td>...</td>\n      <td>...</td>\n      <td>...</td>\n      <td>...</td>\n      <td>...</td>\n      <td>...</td>\n      <td>...</td>\n    </tr>\n    <tr>\n      <th>10131</th>\n      <td>Morris</td>\n      <td>US</td>\n      <td>IL717</td>\n      <td>41.3555</td>\n      <td>-88.4125</td>\n      <td>All Those Left Behind Animal Rescue, Inc.</td>\n      <td>IL</td>\n      <td>60450</td>\n    </tr>\n    <tr>\n      <th>10132</th>\n      <td>Normal</td>\n      <td>US</td>\n      <td>IL806</td>\n      <td>40.5101</td>\n      <td>-88.9866</td>\n      <td>Arrow Dog Rescue</td>\n      <td>IL</td>\n      <td>61761</td>\n    </tr>\n    <tr>\n      <th>10133</th>\n      <td>Westville</td>\n      <td>US</td>\n      <td>IN23</td>\n      <td>41.5536</td>\n      <td>-86.8980</td>\n      <td>Independent Cat Society</td>\n      <td>IN</td>\n      <td>46391</td>\n    </tr>\n    <tr>\n      <th>10134</th>\n      <td>Lansing</td>\n      <td>US</td>\n      <td>MI649</td>\n      <td>42.6813</td>\n      <td>-84.5757</td>\n      <td>Purrfect Kitties</td>\n      <td>MI</td>\n      <td>48911</td>\n    </tr>\n    <tr>\n      <th>10135</th>\n      <td>Fair Play</td>\n      <td>US</td>\n      <td>MO656</td>\n      <td>37.6333</td>\n      <td>-93.5749</td>\n      <td>Hotel McColm</td>\n      <td>MO</td>\n      <td>65649</td>\n    </tr>\n  </tbody>\n</table>\n<p>9812 rows × 8 columns</p>\n</div>"
     },
     "metadata": {},
     "execution_count": 10
    }
   ],
   "source": [
    "clean_shelters_df = clean_shelters_df[clean_shelters_df['country'] == 'US']\n",
    "clean_shelters_df"
   ]
  },
  {
   "cell_type": "code",
   "execution_count": 12,
   "metadata": {},
   "outputs": [],
   "source": [
    "clean_shelters_df.to_csv('../Data/clean_national.csv', index = True, header=True)"
   ]
  },
  {
   "cell_type": "code",
   "execution_count": 13,
   "metadata": {},
   "outputs": [],
   "source": [
    "engine = create_engine(\"sqlite:///../web_page/data/shelters.sqlite\")\n",
    "clean_shelters_df.to_sql(name='national', con=engine, if_exists='replace', index=False)"
   ]
  },
  {
   "cell_type": "code",
   "execution_count": null,
   "metadata": {},
   "outputs": [],
   "source": []
  },
  {
   "cell_type": "code",
   "execution_count": null,
   "metadata": {},
   "outputs": [],
   "source": []
  }
 ],
 "metadata": {
  "kernelspec": {
   "display_name": "Python 3",
   "language": "python",
   "name": "python3"
  },
  "language_info": {
   "codemirror_mode": {
    "name": "ipython",
    "version": 3
   },
   "file_extension": ".py",
   "mimetype": "text/x-python",
   "name": "python",
   "nbconvert_exporter": "python",
   "pygments_lexer": "ipython3",
   "version": "3.6.10-final"
  }
 },
 "nbformat": 4,
 "nbformat_minor": 2
}