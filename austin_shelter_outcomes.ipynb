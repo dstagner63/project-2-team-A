{
 "metadata": {
  "language_info": {
   "codemirror_mode": {
    "name": "ipython",
    "version": 3
   },
   "file_extension": ".py",
   "mimetype": "text/x-python",
   "name": "python",
   "nbconvert_exporter": "python",
   "pygments_lexer": "ipython3",
   "version": "3.6.10-final"
  },
  "orig_nbformat": 2,
  "kernelspec": {
   "name": "python3",
   "display_name": "Python 3"
  }
 },
 "nbformat": 4,
 "nbformat_minor": 2,
 "cells": [
  {
   "cell_type": "code",
   "execution_count": 1,
   "metadata": {},
   "outputs": [],
   "source": [
    "# Import dependencies\n",
    "import pandas as pd\n",
    "from sqlalchemy import create_engine"
   ]
  },
  {
   "cell_type": "code",
   "execution_count": 4,
   "metadata": {},
   "outputs": [
    {
     "output_type": "execute_result",
     "data": {
      "text/plain": [
       "  age_upon_outcome animal_id animal_type                    breed  \\\n",
       "0          2 weeks   A684346         Cat   Domestic Shorthair Mix   \n",
       "1           1 year   A666430         Dog               Beagle Mix   \n",
       "2           1 year   A675708         Dog                 Pit Bull   \n",
       "3          9 years   A680386         Dog  Miniature Schnauzer Mix   \n",
       "4         5 months   A683115       Other                  Bat Mix   \n",
       "\n",
       "          color        date_of_birth             datetime  \\\n",
       "0  Orange Tabby  2014-07-07T00:00:00  2014-07-22T16:04:00   \n",
       "1   White/Brown  2012-11-06T00:00:00  2013-11-07T11:47:00   \n",
       "2    Blue/White  2013-03-31T00:00:00  2014-06-03T14:20:00   \n",
       "3         White  2005-06-02T00:00:00  2014-06-15T15:50:00   \n",
       "4         Brown  2014-01-07T00:00:00  2014-07-07T14:04:00   \n",
       "\n",
       "             monthyear     name outcome_subtype outcome_type sex_upon_outcome  \n",
       "0  2014-07-22T16:04:00      NaN         Partner     Transfer      Intact Male  \n",
       "1  2013-11-07T11:47:00     Lucy         Partner     Transfer    Spayed Female  \n",
       "2  2014-06-03T14:20:00  *Johnny             NaN     Adoption    Neutered Male  \n",
       "3  2014-06-15T15:50:00   Monday         Partner     Transfer    Neutered Male  \n",
       "4  2014-07-07T14:04:00      NaN     Rabies Risk   Euthanasia          Unknown  "
      ],
      "text/html": "<div>\n<style scoped>\n    .dataframe tbody tr th:only-of-type {\n        vertical-align: middle;\n    }\n\n    .dataframe tbody tr th {\n        vertical-align: top;\n    }\n\n    .dataframe thead th {\n        text-align: right;\n    }\n</style>\n<table border=\"1\" class=\"dataframe\">\n  <thead>\n    <tr style=\"text-align: right;\">\n      <th></th>\n      <th>age_upon_outcome</th>\n      <th>animal_id</th>\n      <th>animal_type</th>\n      <th>breed</th>\n      <th>color</th>\n      <th>date_of_birth</th>\n      <th>datetime</th>\n      <th>monthyear</th>\n      <th>name</th>\n      <th>outcome_subtype</th>\n      <th>outcome_type</th>\n      <th>sex_upon_outcome</th>\n    </tr>\n  </thead>\n  <tbody>\n    <tr>\n      <th>0</th>\n      <td>2 weeks</td>\n      <td>A684346</td>\n      <td>Cat</td>\n      <td>Domestic Shorthair Mix</td>\n      <td>Orange Tabby</td>\n      <td>2014-07-07T00:00:00</td>\n      <td>2014-07-22T16:04:00</td>\n      <td>2014-07-22T16:04:00</td>\n      <td>NaN</td>\n      <td>Partner</td>\n      <td>Transfer</td>\n      <td>Intact Male</td>\n    </tr>\n    <tr>\n      <th>1</th>\n      <td>1 year</td>\n      <td>A666430</td>\n      <td>Dog</td>\n      <td>Beagle Mix</td>\n      <td>White/Brown</td>\n      <td>2012-11-06T00:00:00</td>\n      <td>2013-11-07T11:47:00</td>\n      <td>2013-11-07T11:47:00</td>\n      <td>Lucy</td>\n      <td>Partner</td>\n      <td>Transfer</td>\n      <td>Spayed Female</td>\n    </tr>\n    <tr>\n      <th>2</th>\n      <td>1 year</td>\n      <td>A675708</td>\n      <td>Dog</td>\n      <td>Pit Bull</td>\n      <td>Blue/White</td>\n      <td>2013-03-31T00:00:00</td>\n      <td>2014-06-03T14:20:00</td>\n      <td>2014-06-03T14:20:00</td>\n      <td>*Johnny</td>\n      <td>NaN</td>\n      <td>Adoption</td>\n      <td>Neutered Male</td>\n    </tr>\n    <tr>\n      <th>3</th>\n      <td>9 years</td>\n      <td>A680386</td>\n      <td>Dog</td>\n      <td>Miniature Schnauzer Mix</td>\n      <td>White</td>\n      <td>2005-06-02T00:00:00</td>\n      <td>2014-06-15T15:50:00</td>\n      <td>2014-06-15T15:50:00</td>\n      <td>Monday</td>\n      <td>Partner</td>\n      <td>Transfer</td>\n      <td>Neutered Male</td>\n    </tr>\n    <tr>\n      <th>4</th>\n      <td>5 months</td>\n      <td>A683115</td>\n      <td>Other</td>\n      <td>Bat Mix</td>\n      <td>Brown</td>\n      <td>2014-01-07T00:00:00</td>\n      <td>2014-07-07T14:04:00</td>\n      <td>2014-07-07T14:04:00</td>\n      <td>NaN</td>\n      <td>Rabies Risk</td>\n      <td>Euthanasia</td>\n      <td>Unknown</td>\n    </tr>\n  </tbody>\n</table>\n</div>"
     },
     "metadata": {},
     "execution_count": 4
    }
   ],
   "source": [
    "# The path to the World Happiness CSV file\n",
    "austin_file = \"data/aac_shelter_outcomes.csv\"\n",
    "\n",
    "# Read the World Happiness data into pandas\n",
    "original_austin_df = pd.read_csv(austin_file, delimiter = ',')\n",
    "original_austin_df.head()"
   ]
  },
  {
   "cell_type": "code",
   "execution_count": 6,
   "metadata": {},
   "outputs": [
    {
     "output_type": "execute_result",
     "data": {
      "text/plain": [
       "age_upon_outcome    object\n",
       "animal_id           object\n",
       "animal_type         object\n",
       "breed               object\n",
       "color               object\n",
       "date_of_birth       object\n",
       "datetime            object\n",
       "monthyear           object\n",
       "name                object\n",
       "outcome_subtype     object\n",
       "outcome_type        object\n",
       "sex_upon_outcome    object\n",
       "dtype: object"
      ]
     },
     "metadata": {},
     "execution_count": 6
    }
   ],
   "source": [
    "# Inspect the data types\n",
    "original_austin_df.dtypes"
   ]
  },
  {
   "cell_type": "code",
   "execution_count": null,
   "metadata": {},
   "outputs": [],
   "source": []
  },
  {
   "cell_type": "code",
   "execution_count": null,
   "metadata": {},
   "outputs": [],
   "source": []
  },
  {
   "cell_type": "code",
   "execution_count": null,
   "metadata": {},
   "outputs": [],
   "source": []
  }
 ]
}