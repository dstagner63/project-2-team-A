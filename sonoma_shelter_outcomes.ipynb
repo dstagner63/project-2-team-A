{
 "metadata": {
  "language_info": {
   "codemirror_mode": {
    "name": "ipython",
    "version": 3
   },
   "file_extension": ".py",
   "mimetype": "text/x-python",
   "name": "python",
   "nbconvert_exporter": "python",
   "pygments_lexer": "ipython3",
   "version": "3.6.10-final"
  },
  "orig_nbformat": 2,
  "kernelspec": {
   "name": "python3",
   "display_name": "Python 3"
  }
 },
 "nbformat": 4,
 "nbformat_minor": 2,
 "cells": [
  {
   "cell_type": "code",
   "execution_count": 1,
   "metadata": {},
   "outputs": [],
   "source": [
    "# Import dependencies\n",
    "import pandas as pd\n",
    "from sqlalchemy import create_engine"
   ]
  },
  {
   "cell_type": "code",
   "execution_count": 4,
   "metadata": {},
   "outputs": [
    {
     "output_type": "execute_result",
     "data": {
      "text/plain": [
       "             Name Type                       Breed        Color       Sex  \\\n",
       "0             SKY  DOG               GERM SHEPHERD    BLACK/TAN    Female   \n",
       "1            COCO  DOG                      BEAGLE     TRICOLOR  Neutered   \n",
       "2           BRATT  CAT                 DOMESTIC SH    BRN TABBY    Spayed   \n",
       "3           SUZIE  DOG           LABRADOR RETR/MIX        BLACK    Spayed   \n",
       "4           *FINN  DOG                 GOLDEN RETR       YELLOW  Neutered   \n",
       "...           ...  ...                         ...          ...       ...   \n",
       "20370       *ONYX  CAT                 DOMESTIC SH        BLACK  Neutered   \n",
       "20371         NaN  DOG                CHIHUAHUA SH          TAN    Female   \n",
       "20372  TEDDY BEAR  DOG            BICHON FRISE/MIX        CREAM  Neutered   \n",
       "20373       TIPPY  CAT                 DOMESTIC SH  BLACK/WHITE    Spayed   \n",
       "20374       ROSIE  DOG  CAIRN TERRIER/DACHSHUND WH        BLACK    Spayed   \n",
       "\n",
       "        Size Date Of Birth Impound Number Kennel Number Animal ID  ...  \\\n",
       "0        MED           NaN     K20-035118          DS69   A395686  ...   \n",
       "1      SMALL    04/06/2015     K17-025093          DS83   A379968  ...   \n",
       "2      SMALL    09/01/2010     K18-028633           MAC   A374010  ...   \n",
       "3      LARGE    01/23/2011     K15-012348          DA34   A315553  ...   \n",
       "4      LARGE    02/11/2012     K18-027243          DA41   A368064  ...   \n",
       "...      ...           ...            ...           ...       ...  ...   \n",
       "20370  SMALL    02/23/2011     K16-017789          CS04   A333091  ...   \n",
       "20371    TOY           NaN     K15-013157          DS91   A317956  ...   \n",
       "20372  SMALL    06/15/2011     K18-028664          DA20   A374057  ...   \n",
       "20373  SMALL    10/13/2009     K17-025618          CA03   A362428  ...   \n",
       "20374  SMALL    08/08/2004     K14-010178         TRUCK   A309932  ...   \n",
       "\n",
       "         Intake Subtype     Outcome Type        Outcome Subtype  \\\n",
       "0                 FIELD  RETURN TO OWNER  OVER THE COUNTER_CALL   \n",
       "1                 FIELD         TRANSFER             NC AN FRND   \n",
       "2      OVER THE COUNTER         ADOPTION              MOB EVENT   \n",
       "3      OVER THE COUNTER         ADOPTION               INTERNET   \n",
       "4             FLD_CRUEL         ADOPTION               SCAS WEB   \n",
       "...                 ...              ...                    ...   \n",
       "20370  OVER THE COUNTER         ADOPTION                 WALKIN   \n",
       "20371  OVER THE COUNTER        EUTHANIZE             AGGRESSIVE   \n",
       "20372             FIELD  RETURN TO OWNER   OVER THE COUNTER_WEB   \n",
       "20373             FIELD  RETURN TO OWNER  OVER THE COUNTER_PRVS   \n",
       "20374             FIELD  RETURN TO OWNER               FLD_PRVS   \n",
       "\n",
       "           Intake Condition Outcome Condition Intake Jurisdiction  \\\n",
       "0                   HEALTHY           HEALTHY              COUNTY   \n",
       "1                   UNKNOWN           HEALTHY          SANTA ROSA   \n",
       "2      TREATABLE/MANAGEABLE           HEALTHY              COUNTY   \n",
       "3                   HEALTHY           HEALTHY          SANTA ROSA   \n",
       "4                   UNKNOWN           PENDING              COUNTY   \n",
       "...                     ...               ...                 ...   \n",
       "20370               HEALTHY           HEALTHY          SANTA ROSA   \n",
       "20371       TREATABLE/REHAB       UNTREATABLE          SANTA ROSA   \n",
       "20372               UNKNOWN           HEALTHY          SANTA ROSA   \n",
       "20373               UNKNOWN           HEALTHY          SANTA ROSA   \n",
       "20374               HEALTHY           HEALTHY          SANTA ROSA   \n",
       "\n",
       "      Outcome Jurisdiction Outcome Zip Code                       Location  \\\n",
       "0                   COUNTY          95404.0  95404(38.458384, -122.675588)   \n",
       "1            OUT OF COUNTY          95758.0  95758(38.424655, -121.438065)   \n",
       "2               SANTA ROSA          95405.0  95405(38.439152, -122.672541)   \n",
       "3               SANTA ROSA          95404.0  95404(38.458384, -122.675588)   \n",
       "4                   COUNTY          95401.0  95401(38.446019, -122.766748)   \n",
       "...                    ...              ...                            ...   \n",
       "20370               COUNTY          95403.0  95403(38.486997, -122.749134)   \n",
       "20371                  NaN              NaN                            NaN   \n",
       "20372           SANTA ROSA          95403.0  95403(38.486997, -122.749134)   \n",
       "20373               COUNTY          95403.0  95403(38.486997, -122.749134)   \n",
       "20374                  NaN              NaN                            NaN   \n",
       "\n",
       "      Count  \n",
       "0         1  \n",
       "1         1  \n",
       "2         1  \n",
       "3         1  \n",
       "4         1  \n",
       "...     ...  \n",
       "20370     1  \n",
       "20371     1  \n",
       "20372     1  \n",
       "20373     1  \n",
       "20374     1  \n",
       "\n",
       "[20375 rows x 24 columns]"
      ],
      "text/html": "<div>\n<style scoped>\n    .dataframe tbody tr th:only-of-type {\n        vertical-align: middle;\n    }\n\n    .dataframe tbody tr th {\n        vertical-align: top;\n    }\n\n    .dataframe thead th {\n        text-align: right;\n    }\n</style>\n<table border=\"1\" class=\"dataframe\">\n  <thead>\n    <tr style=\"text-align: right;\">\n      <th></th>\n      <th>Name</th>\n      <th>Type</th>\n      <th>Breed</th>\n      <th>Color</th>\n      <th>Sex</th>\n      <th>Size</th>\n      <th>Date Of Birth</th>\n      <th>Impound Number</th>\n      <th>Kennel Number</th>\n      <th>Animal ID</th>\n      <th>...</th>\n      <th>Intake Subtype</th>\n      <th>Outcome Type</th>\n      <th>Outcome Subtype</th>\n      <th>Intake Condition</th>\n      <th>Outcome Condition</th>\n      <th>Intake Jurisdiction</th>\n      <th>Outcome Jurisdiction</th>\n      <th>Outcome Zip Code</th>\n      <th>Location</th>\n      <th>Count</th>\n    </tr>\n  </thead>\n  <tbody>\n    <tr>\n      <th>0</th>\n      <td>SKY</td>\n      <td>DOG</td>\n      <td>GERM SHEPHERD</td>\n      <td>BLACK/TAN</td>\n      <td>Female</td>\n      <td>MED</td>\n      <td>NaN</td>\n      <td>K20-035118</td>\n      <td>DS69</td>\n      <td>A395686</td>\n      <td>...</td>\n      <td>FIELD</td>\n      <td>RETURN TO OWNER</td>\n      <td>OVER THE COUNTER_CALL</td>\n      <td>HEALTHY</td>\n      <td>HEALTHY</td>\n      <td>COUNTY</td>\n      <td>COUNTY</td>\n      <td>95404.0</td>\n      <td>95404(38.458384, -122.675588)</td>\n      <td>1</td>\n    </tr>\n    <tr>\n      <th>1</th>\n      <td>COCO</td>\n      <td>DOG</td>\n      <td>BEAGLE</td>\n      <td>TRICOLOR</td>\n      <td>Neutered</td>\n      <td>SMALL</td>\n      <td>04/06/2015</td>\n      <td>K17-025093</td>\n      <td>DS83</td>\n      <td>A379968</td>\n      <td>...</td>\n      <td>FIELD</td>\n      <td>TRANSFER</td>\n      <td>NC AN FRND</td>\n      <td>UNKNOWN</td>\n      <td>HEALTHY</td>\n      <td>SANTA ROSA</td>\n      <td>OUT OF COUNTY</td>\n      <td>95758.0</td>\n      <td>95758(38.424655, -121.438065)</td>\n      <td>1</td>\n    </tr>\n    <tr>\n      <th>2</th>\n      <td>BRATT</td>\n      <td>CAT</td>\n      <td>DOMESTIC SH</td>\n      <td>BRN TABBY</td>\n      <td>Spayed</td>\n      <td>SMALL</td>\n      <td>09/01/2010</td>\n      <td>K18-028633</td>\n      <td>MAC</td>\n      <td>A374010</td>\n      <td>...</td>\n      <td>OVER THE COUNTER</td>\n      <td>ADOPTION</td>\n      <td>MOB EVENT</td>\n      <td>TREATABLE/MANAGEABLE</td>\n      <td>HEALTHY</td>\n      <td>COUNTY</td>\n      <td>SANTA ROSA</td>\n      <td>95405.0</td>\n      <td>95405(38.439152, -122.672541)</td>\n      <td>1</td>\n    </tr>\n    <tr>\n      <th>3</th>\n      <td>SUZIE</td>\n      <td>DOG</td>\n      <td>LABRADOR RETR/MIX</td>\n      <td>BLACK</td>\n      <td>Spayed</td>\n      <td>LARGE</td>\n      <td>01/23/2011</td>\n      <td>K15-012348</td>\n      <td>DA34</td>\n      <td>A315553</td>\n      <td>...</td>\n      <td>OVER THE COUNTER</td>\n      <td>ADOPTION</td>\n      <td>INTERNET</td>\n      <td>HEALTHY</td>\n      <td>HEALTHY</td>\n      <td>SANTA ROSA</td>\n      <td>SANTA ROSA</td>\n      <td>95404.0</td>\n      <td>95404(38.458384, -122.675588)</td>\n      <td>1</td>\n    </tr>\n    <tr>\n      <th>4</th>\n      <td>*FINN</td>\n      <td>DOG</td>\n      <td>GOLDEN RETR</td>\n      <td>YELLOW</td>\n      <td>Neutered</td>\n      <td>LARGE</td>\n      <td>02/11/2012</td>\n      <td>K18-027243</td>\n      <td>DA41</td>\n      <td>A368064</td>\n      <td>...</td>\n      <td>FLD_CRUEL</td>\n      <td>ADOPTION</td>\n      <td>SCAS WEB</td>\n      <td>UNKNOWN</td>\n      <td>PENDING</td>\n      <td>COUNTY</td>\n      <td>COUNTY</td>\n      <td>95401.0</td>\n      <td>95401(38.446019, -122.766748)</td>\n      <td>1</td>\n    </tr>\n    <tr>\n      <th>...</th>\n      <td>...</td>\n      <td>...</td>\n      <td>...</td>\n      <td>...</td>\n      <td>...</td>\n      <td>...</td>\n      <td>...</td>\n      <td>...</td>\n      <td>...</td>\n      <td>...</td>\n      <td>...</td>\n      <td>...</td>\n      <td>...</td>\n      <td>...</td>\n      <td>...</td>\n      <td>...</td>\n      <td>...</td>\n      <td>...</td>\n      <td>...</td>\n      <td>...</td>\n      <td>...</td>\n    </tr>\n    <tr>\n      <th>20370</th>\n      <td>*ONYX</td>\n      <td>CAT</td>\n      <td>DOMESTIC SH</td>\n      <td>BLACK</td>\n      <td>Neutered</td>\n      <td>SMALL</td>\n      <td>02/23/2011</td>\n      <td>K16-017789</td>\n      <td>CS04</td>\n      <td>A333091</td>\n      <td>...</td>\n      <td>OVER THE COUNTER</td>\n      <td>ADOPTION</td>\n      <td>WALKIN</td>\n      <td>HEALTHY</td>\n      <td>HEALTHY</td>\n      <td>SANTA ROSA</td>\n      <td>COUNTY</td>\n      <td>95403.0</td>\n      <td>95403(38.486997, -122.749134)</td>\n      <td>1</td>\n    </tr>\n    <tr>\n      <th>20371</th>\n      <td>NaN</td>\n      <td>DOG</td>\n      <td>CHIHUAHUA SH</td>\n      <td>TAN</td>\n      <td>Female</td>\n      <td>TOY</td>\n      <td>NaN</td>\n      <td>K15-013157</td>\n      <td>DS91</td>\n      <td>A317956</td>\n      <td>...</td>\n      <td>OVER THE COUNTER</td>\n      <td>EUTHANIZE</td>\n      <td>AGGRESSIVE</td>\n      <td>TREATABLE/REHAB</td>\n      <td>UNTREATABLE</td>\n      <td>SANTA ROSA</td>\n      <td>NaN</td>\n      <td>NaN</td>\n      <td>NaN</td>\n      <td>1</td>\n    </tr>\n    <tr>\n      <th>20372</th>\n      <td>TEDDY BEAR</td>\n      <td>DOG</td>\n      <td>BICHON FRISE/MIX</td>\n      <td>CREAM</td>\n      <td>Neutered</td>\n      <td>SMALL</td>\n      <td>06/15/2011</td>\n      <td>K18-028664</td>\n      <td>DA20</td>\n      <td>A374057</td>\n      <td>...</td>\n      <td>FIELD</td>\n      <td>RETURN TO OWNER</td>\n      <td>OVER THE COUNTER_WEB</td>\n      <td>UNKNOWN</td>\n      <td>HEALTHY</td>\n      <td>SANTA ROSA</td>\n      <td>SANTA ROSA</td>\n      <td>95403.0</td>\n      <td>95403(38.486997, -122.749134)</td>\n      <td>1</td>\n    </tr>\n    <tr>\n      <th>20373</th>\n      <td>TIPPY</td>\n      <td>CAT</td>\n      <td>DOMESTIC SH</td>\n      <td>BLACK/WHITE</td>\n      <td>Spayed</td>\n      <td>SMALL</td>\n      <td>10/13/2009</td>\n      <td>K17-025618</td>\n      <td>CA03</td>\n      <td>A362428</td>\n      <td>...</td>\n      <td>FIELD</td>\n      <td>RETURN TO OWNER</td>\n      <td>OVER THE COUNTER_PRVS</td>\n      <td>UNKNOWN</td>\n      <td>HEALTHY</td>\n      <td>SANTA ROSA</td>\n      <td>COUNTY</td>\n      <td>95403.0</td>\n      <td>95403(38.486997, -122.749134)</td>\n      <td>1</td>\n    </tr>\n    <tr>\n      <th>20374</th>\n      <td>ROSIE</td>\n      <td>DOG</td>\n      <td>CAIRN TERRIER/DACHSHUND WH</td>\n      <td>BLACK</td>\n      <td>Spayed</td>\n      <td>SMALL</td>\n      <td>08/08/2004</td>\n      <td>K14-010178</td>\n      <td>TRUCK</td>\n      <td>A309932</td>\n      <td>...</td>\n      <td>FIELD</td>\n      <td>RETURN TO OWNER</td>\n      <td>FLD_PRVS</td>\n      <td>HEALTHY</td>\n      <td>HEALTHY</td>\n      <td>SANTA ROSA</td>\n      <td>NaN</td>\n      <td>NaN</td>\n      <td>NaN</td>\n      <td>1</td>\n    </tr>\n  </tbody>\n</table>\n<p>20375 rows × 24 columns</p>\n</div>"
     },
     "metadata": {},
     "execution_count": 4
    }
   ],
   "source": [
    "# The path to the World Happiness CSV file\n",
    "sonoma_file = \"data/Animal_Shelter_Intake_and_Outcome.csv\"\n",
    "\n",
    "# Read the World Happiness data into pandas\n",
    "original_sonoma_df = pd.read_csv(sonoma_file, delimiter = ',')\n",
    "original_sonoma_df"
   ]
  },
  {
   "cell_type": "code",
   "execution_count": 5,
   "metadata": {},
   "outputs": [
    {
     "output_type": "execute_result",
     "data": {
      "text/plain": [
       "Name                     object\n",
       "Type                     object\n",
       "Breed                    object\n",
       "Color                    object\n",
       "Sex                      object\n",
       "Size                     object\n",
       "Date Of Birth            object\n",
       "Impound Number           object\n",
       "Kennel Number            object\n",
       "Animal ID                object\n",
       "Intake Date              object\n",
       "Outcome Date             object\n",
       "Days in Shelter           int64\n",
       "Intake Type              object\n",
       "Intake Subtype           object\n",
       "Outcome Type             object\n",
       "Outcome Subtype          object\n",
       "Intake Condition         object\n",
       "Outcome Condition        object\n",
       "Intake Jurisdiction      object\n",
       "Outcome Jurisdiction     object\n",
       "Outcome Zip Code        float64\n",
       "Location                 object\n",
       "Count                     int64\n",
       "dtype: object"
      ]
     },
     "metadata": {},
     "execution_count": 5
    }
   ],
   "source": [
    "original_sonoma_df.dtypes"
   ]
  },
  {
   "cell_type": "code",
   "execution_count": 27,
   "metadata": {},
   "outputs": [
    {
     "output_type": "execute_result",
     "data": {
      "text/plain": [
       "      Animal ID Type     Outcome Type\n",
       "0       A395686  DOG  RETURN TO OWNER\n",
       "1       A379968  DOG         TRANSFER\n",
       "2       A374010  CAT         ADOPTION\n",
       "3       A315553  DOG         ADOPTION\n",
       "4       A368064  DOG         ADOPTION\n",
       "...         ...  ...              ...\n",
       "20370   A333091  CAT         ADOPTION\n",
       "20371   A317956  DOG        EUTHANIZE\n",
       "20372   A374057  DOG  RETURN TO OWNER\n",
       "20373   A362428  CAT  RETURN TO OWNER\n",
       "20374   A309932  DOG  RETURN TO OWNER\n",
       "\n",
       "[20375 rows x 3 columns]"
      ],
      "text/html": "<div>\n<style scoped>\n    .dataframe tbody tr th:only-of-type {\n        vertical-align: middle;\n    }\n\n    .dataframe tbody tr th {\n        vertical-align: top;\n    }\n\n    .dataframe thead th {\n        text-align: right;\n    }\n</style>\n<table border=\"1\" class=\"dataframe\">\n  <thead>\n    <tr style=\"text-align: right;\">\n      <th></th>\n      <th>Animal ID</th>\n      <th>Type</th>\n      <th>Outcome Type</th>\n    </tr>\n  </thead>\n  <tbody>\n    <tr>\n      <th>0</th>\n      <td>A395686</td>\n      <td>DOG</td>\n      <td>RETURN TO OWNER</td>\n    </tr>\n    <tr>\n      <th>1</th>\n      <td>A379968</td>\n      <td>DOG</td>\n      <td>TRANSFER</td>\n    </tr>\n    <tr>\n      <th>2</th>\n      <td>A374010</td>\n      <td>CAT</td>\n      <td>ADOPTION</td>\n    </tr>\n    <tr>\n      <th>3</th>\n      <td>A315553</td>\n      <td>DOG</td>\n      <td>ADOPTION</td>\n    </tr>\n    <tr>\n      <th>4</th>\n      <td>A368064</td>\n      <td>DOG</td>\n      <td>ADOPTION</td>\n    </tr>\n    <tr>\n      <th>...</th>\n      <td>...</td>\n      <td>...</td>\n      <td>...</td>\n    </tr>\n    <tr>\n      <th>20370</th>\n      <td>A333091</td>\n      <td>CAT</td>\n      <td>ADOPTION</td>\n    </tr>\n    <tr>\n      <th>20371</th>\n      <td>A317956</td>\n      <td>DOG</td>\n      <td>EUTHANIZE</td>\n    </tr>\n    <tr>\n      <th>20372</th>\n      <td>A374057</td>\n      <td>DOG</td>\n      <td>RETURN TO OWNER</td>\n    </tr>\n    <tr>\n      <th>20373</th>\n      <td>A362428</td>\n      <td>CAT</td>\n      <td>RETURN TO OWNER</td>\n    </tr>\n    <tr>\n      <th>20374</th>\n      <td>A309932</td>\n      <td>DOG</td>\n      <td>RETURN TO OWNER</td>\n    </tr>\n  </tbody>\n</table>\n<p>20375 rows × 3 columns</p>\n</div>"
     },
     "metadata": {},
     "execution_count": 27
    }
   ],
   "source": [
    "clean_sonoma_df = original_sonoma_df[['Animal ID', 'Type', 'Outcome Type']]\n",
    "clean_sonoma_df"
   ]
  },
  {
   "cell_type": "code",
   "execution_count": 28,
   "metadata": {},
   "outputs": [
    {
     "output_type": "execute_result",
     "data": {
      "text/plain": [
       "      Animal ID Type     Outcome Type\n",
       "0       A395686  Dog  RETURN TO OWNER\n",
       "1       A379968  Dog         TRANSFER\n",
       "2       A374010  Cat         ADOPTION\n",
       "3       A315553  Dog         ADOPTION\n",
       "4       A368064  Dog         ADOPTION\n",
       "...         ...  ...              ...\n",
       "20370   A333091  Cat         ADOPTION\n",
       "20371   A317956  Dog        EUTHANIZE\n",
       "20372   A374057  Dog  RETURN TO OWNER\n",
       "20373   A362428  Cat  RETURN TO OWNER\n",
       "20374   A309932  Dog  RETURN TO OWNER\n",
       "\n",
       "[20375 rows x 3 columns]"
      ],
      "text/html": "<div>\n<style scoped>\n    .dataframe tbody tr th:only-of-type {\n        vertical-align: middle;\n    }\n\n    .dataframe tbody tr th {\n        vertical-align: top;\n    }\n\n    .dataframe thead th {\n        text-align: right;\n    }\n</style>\n<table border=\"1\" class=\"dataframe\">\n  <thead>\n    <tr style=\"text-align: right;\">\n      <th></th>\n      <th>Animal ID</th>\n      <th>Type</th>\n      <th>Outcome Type</th>\n    </tr>\n  </thead>\n  <tbody>\n    <tr>\n      <th>0</th>\n      <td>A395686</td>\n      <td>Dog</td>\n      <td>RETURN TO OWNER</td>\n    </tr>\n    <tr>\n      <th>1</th>\n      <td>A379968</td>\n      <td>Dog</td>\n      <td>TRANSFER</td>\n    </tr>\n    <tr>\n      <th>2</th>\n      <td>A374010</td>\n      <td>Cat</td>\n      <td>ADOPTION</td>\n    </tr>\n    <tr>\n      <th>3</th>\n      <td>A315553</td>\n      <td>Dog</td>\n      <td>ADOPTION</td>\n    </tr>\n    <tr>\n      <th>4</th>\n      <td>A368064</td>\n      <td>Dog</td>\n      <td>ADOPTION</td>\n    </tr>\n    <tr>\n      <th>...</th>\n      <td>...</td>\n      <td>...</td>\n      <td>...</td>\n    </tr>\n    <tr>\n      <th>20370</th>\n      <td>A333091</td>\n      <td>Cat</td>\n      <td>ADOPTION</td>\n    </tr>\n    <tr>\n      <th>20371</th>\n      <td>A317956</td>\n      <td>Dog</td>\n      <td>EUTHANIZE</td>\n    </tr>\n    <tr>\n      <th>20372</th>\n      <td>A374057</td>\n      <td>Dog</td>\n      <td>RETURN TO OWNER</td>\n    </tr>\n    <tr>\n      <th>20373</th>\n      <td>A362428</td>\n      <td>Cat</td>\n      <td>RETURN TO OWNER</td>\n    </tr>\n    <tr>\n      <th>20374</th>\n      <td>A309932</td>\n      <td>Dog</td>\n      <td>RETURN TO OWNER</td>\n    </tr>\n  </tbody>\n</table>\n<p>20375 rows × 3 columns</p>\n</div>"
     },
     "metadata": {},
     "execution_count": 28
    }
   ],
   "source": [
    "clean_sonoma_df['Type'] = clean_sonoma_df['Type'].str.title()\n",
    "clean_sonoma_df"
   ]
  },
  {
   "cell_type": "code",
   "execution_count": 29,
   "metadata": {},
   "outputs": [
    {
     "output_type": "execute_result",
     "data": {
      "text/plain": [
       "      Animal ID Type     Outcome Type\n",
       "0       A395686  Dog  Return To Owner\n",
       "1       A379968  Dog         Transfer\n",
       "2       A374010  Cat         Adoption\n",
       "3       A315553  Dog         Adoption\n",
       "4       A368064  Dog         Adoption\n",
       "...         ...  ...              ...\n",
       "20370   A333091  Cat         Adoption\n",
       "20371   A317956  Dog        Euthanize\n",
       "20372   A374057  Dog  Return To Owner\n",
       "20373   A362428  Cat  Return To Owner\n",
       "20374   A309932  Dog  Return To Owner\n",
       "\n",
       "[20375 rows x 3 columns]"
      ],
      "text/html": "<div>\n<style scoped>\n    .dataframe tbody tr th:only-of-type {\n        vertical-align: middle;\n    }\n\n    .dataframe tbody tr th {\n        vertical-align: top;\n    }\n\n    .dataframe thead th {\n        text-align: right;\n    }\n</style>\n<table border=\"1\" class=\"dataframe\">\n  <thead>\n    <tr style=\"text-align: right;\">\n      <th></th>\n      <th>Animal ID</th>\n      <th>Type</th>\n      <th>Outcome Type</th>\n    </tr>\n  </thead>\n  <tbody>\n    <tr>\n      <th>0</th>\n      <td>A395686</td>\n      <td>Dog</td>\n      <td>Return To Owner</td>\n    </tr>\n    <tr>\n      <th>1</th>\n      <td>A379968</td>\n      <td>Dog</td>\n      <td>Transfer</td>\n    </tr>\n    <tr>\n      <th>2</th>\n      <td>A374010</td>\n      <td>Cat</td>\n      <td>Adoption</td>\n    </tr>\n    <tr>\n      <th>3</th>\n      <td>A315553</td>\n      <td>Dog</td>\n      <td>Adoption</td>\n    </tr>\n    <tr>\n      <th>4</th>\n      <td>A368064</td>\n      <td>Dog</td>\n      <td>Adoption</td>\n    </tr>\n    <tr>\n      <th>...</th>\n      <td>...</td>\n      <td>...</td>\n      <td>...</td>\n    </tr>\n    <tr>\n      <th>20370</th>\n      <td>A333091</td>\n      <td>Cat</td>\n      <td>Adoption</td>\n    </tr>\n    <tr>\n      <th>20371</th>\n      <td>A317956</td>\n      <td>Dog</td>\n      <td>Euthanize</td>\n    </tr>\n    <tr>\n      <th>20372</th>\n      <td>A374057</td>\n      <td>Dog</td>\n      <td>Return To Owner</td>\n    </tr>\n    <tr>\n      <th>20373</th>\n      <td>A362428</td>\n      <td>Cat</td>\n      <td>Return To Owner</td>\n    </tr>\n    <tr>\n      <th>20374</th>\n      <td>A309932</td>\n      <td>Dog</td>\n      <td>Return To Owner</td>\n    </tr>\n  </tbody>\n</table>\n<p>20375 rows × 3 columns</p>\n</div>"
     },
     "metadata": {},
     "execution_count": 29
    }
   ],
   "source": [
    "clean_sonoma_df['Outcome Type'] = clean_sonoma_df['Outcome Type'].str.title()\n",
    "clean_sonoma_df"
   ]
  },
  {
   "cell_type": "code",
   "execution_count": 36,
   "metadata": {},
   "outputs": [
    {
     "output_type": "execute_result",
     "data": {
      "text/plain": [
       "      Animal ID     Outcome Type\n",
       "0       A395686  Return To Owner\n",
       "1       A379968         Transfer\n",
       "2       A374010         Adoption\n",
       "3       A315553         Adoption\n",
       "4       A368064         Adoption\n",
       "...         ...              ...\n",
       "20370   A333091         Adoption\n",
       "20371   A317956        Euthanize\n",
       "20372   A374057  Return To Owner\n",
       "20373   A362428  Return To Owner\n",
       "20374   A309932  Return To Owner\n",
       "\n",
       "[20375 rows x 2 columns]"
      ],
      "text/html": "<div>\n<style scoped>\n    .dataframe tbody tr th:only-of-type {\n        vertical-align: middle;\n    }\n\n    .dataframe tbody tr th {\n        vertical-align: top;\n    }\n\n    .dataframe thead th {\n        text-align: right;\n    }\n</style>\n<table border=\"1\" class=\"dataframe\">\n  <thead>\n    <tr style=\"text-align: right;\">\n      <th></th>\n      <th>Animal ID</th>\n      <th>Outcome Type</th>\n    </tr>\n  </thead>\n  <tbody>\n    <tr>\n      <th>0</th>\n      <td>A395686</td>\n      <td>Return To Owner</td>\n    </tr>\n    <tr>\n      <th>1</th>\n      <td>A379968</td>\n      <td>Transfer</td>\n    </tr>\n    <tr>\n      <th>2</th>\n      <td>A374010</td>\n      <td>Adoption</td>\n    </tr>\n    <tr>\n      <th>3</th>\n      <td>A315553</td>\n      <td>Adoption</td>\n    </tr>\n    <tr>\n      <th>4</th>\n      <td>A368064</td>\n      <td>Adoption</td>\n    </tr>\n    <tr>\n      <th>...</th>\n      <td>...</td>\n      <td>...</td>\n    </tr>\n    <tr>\n      <th>20370</th>\n      <td>A333091</td>\n      <td>Adoption</td>\n    </tr>\n    <tr>\n      <th>20371</th>\n      <td>A317956</td>\n      <td>Euthanize</td>\n    </tr>\n    <tr>\n      <th>20372</th>\n      <td>A374057</td>\n      <td>Return To Owner</td>\n    </tr>\n    <tr>\n      <th>20373</th>\n      <td>A362428</td>\n      <td>Return To Owner</td>\n    </tr>\n    <tr>\n      <th>20374</th>\n      <td>A309932</td>\n      <td>Return To Owner</td>\n    </tr>\n  </tbody>\n</table>\n<p>20375 rows × 2 columns</p>\n</div>"
     },
     "metadata": {},
     "execution_count": 36
    }
   ],
   "source": [
    "id_df = clean_sonoma_df[['Animal ID', 'Outcome Type']]\n",
    "id_df"
   ]
  },
  {
   "cell_type": "code",
   "execution_count": 37,
   "metadata": {},
   "outputs": [
    {
     "output_type": "stream",
     "name": "stdout",
     "text": [
      "Duplicate Rows :\n"
     ]
    },
    {
     "output_type": "execute_result",
     "data": {
      "text/plain": [
       "      Animal ID     Outcome Type\n",
       "44      A395184  Return To Owner\n",
       "87      A328035  Return To Owner\n",
       "89      A393473  Return To Owner\n",
       "123     A328035  Return To Owner\n",
       "156     A393472  Return To Owner\n",
       "...         ...              ...\n",
       "20306   A329123         Adoption\n",
       "20320   A314717  Return To Owner\n",
       "20323   A345466         Adoption\n",
       "20327   A367882         Adoption\n",
       "20330   A349479         Adoption\n",
       "\n",
       "[1351 rows x 2 columns]"
      ],
      "text/html": "<div>\n<style scoped>\n    .dataframe tbody tr th:only-of-type {\n        vertical-align: middle;\n    }\n\n    .dataframe tbody tr th {\n        vertical-align: top;\n    }\n\n    .dataframe thead th {\n        text-align: right;\n    }\n</style>\n<table border=\"1\" class=\"dataframe\">\n  <thead>\n    <tr style=\"text-align: right;\">\n      <th></th>\n      <th>Animal ID</th>\n      <th>Outcome Type</th>\n    </tr>\n  </thead>\n  <tbody>\n    <tr>\n      <th>44</th>\n      <td>A395184</td>\n      <td>Return To Owner</td>\n    </tr>\n    <tr>\n      <th>87</th>\n      <td>A328035</td>\n      <td>Return To Owner</td>\n    </tr>\n    <tr>\n      <th>89</th>\n      <td>A393473</td>\n      <td>Return To Owner</td>\n    </tr>\n    <tr>\n      <th>123</th>\n      <td>A328035</td>\n      <td>Return To Owner</td>\n    </tr>\n    <tr>\n      <th>156</th>\n      <td>A393472</td>\n      <td>Return To Owner</td>\n    </tr>\n    <tr>\n      <th>...</th>\n      <td>...</td>\n      <td>...</td>\n    </tr>\n    <tr>\n      <th>20306</th>\n      <td>A329123</td>\n      <td>Adoption</td>\n    </tr>\n    <tr>\n      <th>20320</th>\n      <td>A314717</td>\n      <td>Return To Owner</td>\n    </tr>\n    <tr>\n      <th>20323</th>\n      <td>A345466</td>\n      <td>Adoption</td>\n    </tr>\n    <tr>\n      <th>20327</th>\n      <td>A367882</td>\n      <td>Adoption</td>\n    </tr>\n    <tr>\n      <th>20330</th>\n      <td>A349479</td>\n      <td>Adoption</td>\n    </tr>\n  </tbody>\n</table>\n<p>1351 rows × 2 columns</p>\n</div>"
     },
     "metadata": {},
     "execution_count": 37
    }
   ],
   "source": [
    "duplicate = id_df[id_df.duplicated()]\n",
    "print(\"Duplicate Rows :\")\n",
    "duplicate"
   ]
  },
  {
   "cell_type": "code",
   "execution_count": null,
   "metadata": {},
   "outputs": [],
   "source": []
  }
 ]
}